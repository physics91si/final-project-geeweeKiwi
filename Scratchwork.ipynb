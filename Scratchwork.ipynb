{
 "cells": [
  {
   "cell_type": "code",
   "execution_count": 10,
   "metadata": {},
   "outputs": [
    {
     "data": {
      "text/plain": [
       "0.22014129880769093"
      ]
     },
     "execution_count": 10,
     "metadata": {},
     "output_type": "execute_result"
    }
   ],
   "source": [
    "n = 1./7.\n",
    "power = (7./9.)\n",
    "n**power"
   ]
  },
  {
   "cell_type": "code",
   "execution_count": 3,
   "metadata": {},
   "outputs": [
    {
     "data": {
      "text/plain": [
       "40"
      ]
     },
     "execution_count": 3,
     "metadata": {},
     "output_type": "execute_result"
    }
   ],
   "source": [
    "import numpy as np\n",
    "from random import random\n",
    "import electron\n",
    "import barrier\n",
    "\n",
    "pos = np.array([.5,.5])\n",
    "vel = np.array ([0, 1])\n",
    "energy = np.array([10])\n",
    "part = electron.Electron(pos, vel, energy)\n",
    "barr = barrier.Barrier(25, 10**-20)\n",
    "arr1 = [barr.does_escape(part) for x in range(0,100)]\n",
    "arr = [1 for i in arr1 if i == True]\n",
    "len(arr)"
   ]
  },
  {
   "cell_type": "code",
   "execution_count": 41,
   "metadata": {},
   "outputs": [
    {
     "data": {
      "text/plain": [
       "array([  0.00000000e+00,   4.68565710e+15])"
      ]
     },
     "execution_count": 41,
     "metadata": {},
     "output_type": "execute_result"
    }
   ],
   "source": [
    "part.vel"
   ]
  },
  {
   "cell_type": "code",
   "execution_count": 3,
   "metadata": {},
   "outputs": [
    {
     "ename": "AttributeError",
     "evalue": "'numpy.ndarray' object has no attribute 'U0'",
     "output_type": "error",
     "traceback": [
      "\u001b[1;31m\u001b[0m",
      "\u001b[1;31mAttributeError\u001b[0mTraceback (most recent call last)",
      "\u001b[1;32m<ipython-input-3-d7db126ac838>\u001b[0m in \u001b[0;36m<module>\u001b[1;34m()\u001b[0m\n\u001b[0;32m      3\u001b[0m     \u001b[1;32mprint\u001b[0m \u001b[0mbarriers\u001b[0m\u001b[1;33m.\u001b[0m\u001b[0mU0\u001b[0m\u001b[1;33m\u001b[0m\u001b[0m\n\u001b[0;32m      4\u001b[0m \u001b[1;33m\u001b[0m\u001b[0m\n\u001b[1;32m----> 5\u001b[1;33m \u001b[0minit_barriers\u001b[0m\u001b[1;33m(\u001b[0m\u001b[1;33m)\u001b[0m\u001b[1;33m\u001b[0m\u001b[0m\n\u001b[0m",
      "\u001b[1;32m<ipython-input-3-d7db126ac838>\u001b[0m in \u001b[0;36minit_barriers\u001b[1;34m(height, width)\u001b[0m\n\u001b[0;32m      1\u001b[0m \u001b[1;32mdef\u001b[0m \u001b[0minit_barriers\u001b[0m\u001b[1;33m(\u001b[0m\u001b[0mheight\u001b[0m \u001b[1;33m=\u001b[0m \u001b[1;36m25\u001b[0m\u001b[1;33m,\u001b[0m \u001b[0mwidth\u001b[0m \u001b[1;33m=\u001b[0m \u001b[1;36m10\u001b[0m\u001b[1;33m**\u001b[0m\u001b[1;33m-\u001b[0m\u001b[1;36m20\u001b[0m\u001b[1;33m)\u001b[0m\u001b[1;33m:\u001b[0m\u001b[1;33m\u001b[0m\u001b[0m\n\u001b[0;32m      2\u001b[0m     \u001b[0mbarriers\u001b[0m \u001b[1;33m=\u001b[0m \u001b[0mnp\u001b[0m\u001b[1;33m.\u001b[0m\u001b[0marray\u001b[0m\u001b[1;33m(\u001b[0m\u001b[1;33m[\u001b[0m\u001b[0mbarrier\u001b[0m\u001b[1;33m.\u001b[0m\u001b[0mBarrier\u001b[0m\u001b[1;33m(\u001b[0m\u001b[0mheight\u001b[0m\u001b[1;33m,\u001b[0m \u001b[0mwidth\u001b[0m\u001b[1;33m)\u001b[0m \u001b[1;32mfor\u001b[0m \u001b[0mi\u001b[0m \u001b[1;32min\u001b[0m \u001b[0mrange\u001b[0m\u001b[1;33m(\u001b[0m\u001b[1;36m0\u001b[0m\u001b[1;33m,\u001b[0m\u001b[1;36m4\u001b[0m\u001b[1;33m)\u001b[0m\u001b[1;33m]\u001b[0m\u001b[1;33m)\u001b[0m\u001b[1;33m\u001b[0m\u001b[0m\n\u001b[1;32m----> 3\u001b[1;33m     \u001b[1;32mprint\u001b[0m \u001b[0mbarriers\u001b[0m\u001b[1;33m.\u001b[0m\u001b[0mU0\u001b[0m\u001b[1;33m\u001b[0m\u001b[0m\n\u001b[0m\u001b[0;32m      4\u001b[0m \u001b[1;33m\u001b[0m\u001b[0m\n\u001b[0;32m      5\u001b[0m \u001b[0minit_barriers\u001b[0m\u001b[1;33m(\u001b[0m\u001b[1;33m)\u001b[0m\u001b[1;33m\u001b[0m\u001b[0m\n",
      "\u001b[1;31mAttributeError\u001b[0m: 'numpy.ndarray' object has no attribute 'U0'"
     ]
    }
   ],
   "source": [
    "def init_barriers(height = 25, width = 10**-20):\n",
    "    barriers = np.array([barrier.Barrier(height, width) for i in range(0,4)])\n",
    "    print barriers.U0\n",
    "    \n",
    "init_barriers()"
   ]
  },
  {
   "cell_type": "code",
   "execution_count": 1,
   "metadata": {},
   "outputs": [
    {
     "ename": "NameError",
     "evalue": "global name 'np' is not defined",
     "output_type": "error",
     "traceback": [
      "\u001b[1;31m\u001b[0m",
      "\u001b[1;31mNameError\u001b[0mTraceback (most recent call last)",
      "\u001b[1;32m<ipython-input-1-a99a1776ec77>\u001b[0m in \u001b[0;36m<module>\u001b[1;34m()\u001b[0m\n\u001b[0;32m      8\u001b[0m     \u001b[0melectrons\u001b[0m \u001b[1;33m=\u001b[0m \u001b[0melectron\u001b[0m\u001b[1;33m.\u001b[0m\u001b[0mElectron\u001b[0m\u001b[1;33m(\u001b[0m\u001b[0mpositions\u001b[0m\u001b[1;33m,\u001b[0m \u001b[0mdirections\u001b[0m\u001b[1;33m,\u001b[0m \u001b[0menergies\u001b[0m\u001b[1;33m)\u001b[0m\u001b[1;33m\u001b[0m\u001b[0m\n\u001b[0;32m      9\u001b[0m \u001b[1;33m\u001b[0m\u001b[0m\n\u001b[1;32m---> 10\u001b[1;33m \u001b[0minit_electrons\u001b[0m\u001b[1;33m(\u001b[0m\u001b[1;36m7\u001b[0m\u001b[1;33m,\u001b[0m \u001b[1;36m5.65\u001b[0m\u001b[1;33m)\u001b[0m\u001b[1;33m\u001b[0m\u001b[0m\n\u001b[0m",
      "\u001b[1;32m<ipython-input-1-a99a1776ec77>\u001b[0m in \u001b[0;36minit_electrons\u001b[1;34m(num, E_min, E_max)\u001b[0m\n\u001b[0;32m      2\u001b[0m     \u001b[1;32mif\u001b[0m \u001b[0mE_max\u001b[0m \u001b[1;33m==\u001b[0m \u001b[0mNone\u001b[0m\u001b[1;33m:\u001b[0m\u001b[1;33m\u001b[0m\u001b[0m\n\u001b[0;32m      3\u001b[0m         \u001b[0mE_max\u001b[0m \u001b[1;33m=\u001b[0m \u001b[0mE_min\u001b[0m\u001b[1;33m\u001b[0m\u001b[0m\n\u001b[1;32m----> 4\u001b[1;33m     \u001b[0menergies\u001b[0m \u001b[1;33m=\u001b[0m \u001b[0mnp\u001b[0m\u001b[1;33m.\u001b[0m\u001b[0marray\u001b[0m\u001b[1;33m(\u001b[0m\u001b[1;33m[\u001b[0m\u001b[0mE_min\u001b[0m \u001b[1;33m+\u001b[0m \u001b[1;33m(\u001b[0m\u001b[0mE_max\u001b[0m \u001b[1;33m-\u001b[0m \u001b[0mE_min\u001b[0m\u001b[1;33m)\u001b[0m\u001b[1;33m*\u001b[0m\u001b[1;33m(\u001b[0m\u001b[0mrandom\u001b[0m\u001b[1;33m(\u001b[0m\u001b[1;33m)\u001b[0m\u001b[1;33m)\u001b[0m \u001b[1;32mfor\u001b[0m \u001b[0mi\u001b[0m \u001b[1;32min\u001b[0m \u001b[0mrange\u001b[0m \u001b[1;33m(\u001b[0m\u001b[1;36m0\u001b[0m\u001b[1;33m,\u001b[0m \u001b[0mnum\u001b[0m\u001b[1;33m)\u001b[0m\u001b[1;33m]\u001b[0m\u001b[1;33m)\u001b[0m\u001b[1;33m\u001b[0m\u001b[0m\n\u001b[0m\u001b[0;32m      5\u001b[0m     \u001b[0mpositions\u001b[0m \u001b[1;33m=\u001b[0m \u001b[0mnp\u001b[0m\u001b[1;33m.\u001b[0m\u001b[0marray\u001b[0m\u001b[1;33m(\u001b[0m\u001b[1;33m[\u001b[0m\u001b[0mnp\u001b[0m\u001b[1;33m.\u001b[0m\u001b[0marray\u001b[0m\u001b[1;33m(\u001b[0m\u001b[1;33m[\u001b[0m\u001b[0mrandom\u001b[0m\u001b[1;33m(\u001b[0m\u001b[1;33m)\u001b[0m\u001b[1;33m,\u001b[0m \u001b[0mrandom\u001b[0m\u001b[1;33m(\u001b[0m\u001b[1;33m)\u001b[0m\u001b[1;33m]\u001b[0m\u001b[1;33m)\u001b[0m \u001b[1;32mfor\u001b[0m \u001b[0mi\u001b[0m \u001b[1;32min\u001b[0m \u001b[0mrange\u001b[0m \u001b[1;33m(\u001b[0m\u001b[1;36m0\u001b[0m\u001b[1;33m,\u001b[0m \u001b[0mnum\u001b[0m\u001b[1;33m)\u001b[0m\u001b[1;33m]\u001b[0m\u001b[1;33m)\u001b[0m\u001b[1;33m\u001b[0m\u001b[0m\n\u001b[0;32m      6\u001b[0m     \u001b[0mrand_ang\u001b[0m \u001b[1;33m=\u001b[0m \u001b[1;36m2\u001b[0m\u001b[1;33m*\u001b[0m\u001b[0mnp\u001b[0m\u001b[1;33m.\u001b[0m\u001b[0mpi\u001b[0m\u001b[1;33m*\u001b[0m\u001b[0mrandom\u001b[0m\u001b[1;33m(\u001b[0m\u001b[1;33m)\u001b[0m\u001b[1;33m\u001b[0m\u001b[0m\n",
      "\u001b[1;31mNameError\u001b[0m: global name 'np' is not defined"
     ]
    }
   ],
   "source": [
    "def init_electrons(num = 100, E_min = 0, E_max = None):\n",
    "    if E_max == None:\n",
    "        E_max = E_min\n",
    "    energies = np.array([E_min + (E_max - E_min)*(random()) for i in range (0, num)])\n",
    "    positions = np.array([np.array([random(), random()]) for i in range (0, num)])\n",
    "    rand_ang = 2*np.pi*random()\n",
    "    directions = np.array([np.array([np.cos(rand_ang), np.sin(rand_ang)]) for i in range (0, num)])\n",
    "    electrons = electron.Electron(positions, directions, energies)\n",
    "    \n",
    "init_electrons(7, 5.65)"
   ]
  },
  {
   "cell_type": "code",
   "execution_count": 9,
   "metadata": {},
   "outputs": [
    {
     "name": "stdout",
     "output_type": "stream",
     "text": [
      "[ 0.79601917  0.64960357]\n",
      "[ 0.26930665  0.85955131]\n",
      "[ 0.8187752   0.72580174]\n",
      "[ 0.58482432  0.53613534]\n",
      "[ 0.52365789  0.85296311]\n",
      "[ 0.50146645  0.41465876]\n",
      "[ 0.30525988  0.69764832]\n",
      "[ 0.18691844  0.13338535]\n",
      "[ 0.10900451  0.18348908]\n",
      "[ 0.44012018  0.36396025]\n",
      "[ 0.42970029  0.53522175]\n",
      "[ 0.65921066  0.99723404]\n",
      "[ 0.92426806  0.08783821]\n",
      "[ 0.06456317  0.18550996]\n",
      "[ 0.10259757  0.92788418]\n",
      "[ 0.00490638  0.61362588]\n",
      "[ 0.1270307   0.31771281]\n",
      "[ 0.94467264  0.26242416]\n",
      "[ 0.82804916  0.73675433]\n",
      "[ 0.21449882  0.37618937]\n",
      "[ 0.63606689  0.20708002]\n",
      "[ 0.78066814  0.14948375]\n",
      "[ 0.16854732  0.07878588]\n",
      "[ 0.21619095  0.92178796]\n",
      "[ 0.97760619  0.03628701]\n",
      "[ 0.86511839  0.61365227]\n",
      "[ 0.51724488  0.20292982]\n",
      "[ 0.07502471  0.93012664]\n",
      "[ 0.29524763  0.04102362]\n",
      "[ 0.73498146  0.45312018]\n",
      "[ 0.20107253  0.78140322]\n",
      "[ 0.51107839  0.03603309]\n",
      "[ 0.60636838  0.37088889]\n",
      "[ 0.68550472  0.56830322]\n",
      "[ 0.52019985  0.90307721]\n",
      "[ 0.74882524  0.27703175]\n",
      "[ 0.69436636  0.94579313]\n",
      "[ 0.86696462  0.02386225]\n",
      "[ 0.79730383  0.94158692]\n",
      "[ 0.45637036  0.15231105]\n",
      "[ 0.2353277   0.84069133]\n",
      "[ 0.4144883   0.47770643]\n",
      "[ 0.18808297  0.1976502 ]\n",
      "[ 0.64073793  0.25014108]\n",
      "[ 0.2267674   0.08793951]\n",
      "[ 0.18361236  0.0352239 ]\n",
      "[ 0.52252411  0.97359311]\n",
      "[ 0.98184542  0.0833311 ]\n",
      "[ 0.32993944  0.25252075]\n",
      "[ 0.97142246  0.04864992]\n",
      "[ 0.85956333  0.1458405 ]\n",
      "[ 0.04553301  0.63864998]\n",
      "[ 0.26120087  0.42656568]\n",
      "[ 0.64924578  0.69479286]\n",
      "[ 0.3360365   0.67383209]\n",
      "[ 0.61727988  0.95601626]\n",
      "[ 0.50718419  0.34881031]\n",
      "[ 0.93476737  0.49975099]\n",
      "[ 0.08839997  0.20553854]\n",
      "[ 0.09170101  0.8687301 ]\n",
      "[ 0.65040833  0.37789575]\n",
      "[ 0.96356468  0.02243986]\n",
      "[ 0.31263411  0.37126026]\n",
      "[ 0.15646516  0.43052061]\n",
      "[ 0.44904759  0.21799037]\n",
      "[ 0.96913181  0.23987604]\n",
      "[ 0.34722774  0.60642248]\n",
      "[ 0.2669399   0.14057829]\n",
      "[ 0.54563461  0.16785654]\n",
      "[ 0.68370219  0.7008199 ]\n",
      "[ 0.32445553  0.9468855 ]\n",
      "[ 0.2434267   0.21691511]\n",
      "[ 0.70637707  0.13642983]\n",
      "[ 0.88974021  0.41060908]\n",
      "[ 0.18532817  0.73793018]\n",
      "[ 0.63734192  0.28679298]\n",
      "[ 0.89868995  0.78486036]\n",
      "[ 0.81445266  0.75386957]\n",
      "[ 0.03470119  0.78643373]\n",
      "[ 0.01971648  0.51627491]\n",
      "[ 0.66788609  0.7221061 ]\n",
      "[ 0.23824056  0.02415959]\n",
      "[ 0.02981364  0.19558314]\n",
      "[ 0.41882307  0.03013351]\n",
      "[ 0.49377285  0.62308389]\n",
      "[ 0.04664376  0.98577725]\n",
      "[ 0.70800209  0.42984349]\n",
      "[ 0.78933426  0.72117977]\n",
      "[ 0.78644255  0.74705282]\n",
      "[ 0.20266295  0.57542961]\n",
      "[ 0.1017574   0.41040394]\n",
      "[ 0.28694693  0.2322435 ]\n",
      "[ 0.77714567  0.24749781]\n",
      "[ 0.6191422   0.26118339]\n",
      "[ 0.57645165  0.72574337]\n",
      "[ 0.88424255  0.65440028]\n",
      "[ 0.44871175  0.62500562]\n",
      "[ 0.22991549  0.79165585]\n",
      "[ 0.29160091  0.37128437]\n",
      "[ 0.43743591  0.75657205]\n"
     ]
    }
   ],
   "source": [
    "import numpy as np\n",
    "from random import random\n",
    "import electron\n",
    "import barrier\n",
    "\n",
    "def init_electrons(num = 100, E_min = None, E_max = 20):\n",
    "    ''' initializes array of electrons of length num with energies in range E_min to E_max, if no E_min is given, all electrons will have energy E_max, if neither, all will have E = 20 '''\n",
    "    if E_min == None:\n",
    "        E_min = E_max\n",
    "    energies = np.array([E_min + (E_max - E_min)*(random()) for i in range (0, num)])\n",
    "    positions = np.array([np.array([random(), random()]) for i in range (0, num)])\n",
    "    rand_ang = 2*np.pi*random()\n",
    "    directions = np.array([np.array([np.cos(rand_ang), np.sin(rand_ang)]) for i in range (0, num)])\n",
    "    \n",
    "    electron_list = []\n",
    "    for i in range(0, num):\n",
    "        electron_list.append(electron.Electron(positions[i], directions[i], energies[i]))\n",
    "    \n",
    "    return np.array(electron_list)\n",
    "\n",
    "electrons = init_electrons()\n",
    "for e in electrons:\n",
    "    print e.pos\n",
    "#electrons"
   ]
  }
 ],
 "metadata": {
  "kernelspec": {
   "display_name": "Python 2",
   "language": "python",
   "name": "python2"
  },
  "language_info": {
   "codemirror_mode": {
    "name": "ipython",
    "version": 2
   },
   "file_extension": ".py",
   "mimetype": "text/x-python",
   "name": "python",
   "nbconvert_exporter": "python",
   "pygments_lexer": "ipython2",
   "version": "2.7.13"
  }
 },
 "nbformat": 4,
 "nbformat_minor": 2
}
